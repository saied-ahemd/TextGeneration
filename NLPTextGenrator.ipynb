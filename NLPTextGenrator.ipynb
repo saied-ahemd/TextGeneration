{
  "nbformat": 4,
  "nbformat_minor": 0,
  "metadata": {
    "colab": {
      "name": "NLPTextGenrator.ipynb",
      "provenance": [],
      "collapsed_sections": [],
      "authorship_tag": "ABX9TyNk2VzMFwepwF0dbWVg/6wy",
      "include_colab_link": true
    },
    "kernelspec": {
      "name": "python3",
      "display_name": "Python 3"
    },
    "accelerator": "GPU"
  },
  "cells": [
    {
      "cell_type": "markdown",
      "metadata": {
        "id": "view-in-github",
        "colab_type": "text"
      },
      "source": [
        "<a href=\"https://colab.research.google.com/github/saied-ahemd/TextGeneration/blob/main/NLPTextGenrator.ipynb\" target=\"_parent\"><img src=\"https://colab.research.google.com/assets/colab-badge.svg\" alt=\"Open In Colab\"/></a>"
      ]
    },
    {
      "cell_type": "code",
      "metadata": {
        "id": "fAe-CowU8pOb"
      },
      "source": [
        "from keras.preprocessing import sequence\r\n",
        "import keras\r\n",
        "import tensorflow as tf\r\n",
        "import os\r\n",
        "import numpy as np"
      ],
      "execution_count": 1,
      "outputs": []
    },
    {
      "cell_type": "code",
      "metadata": {
        "id": "yy1FxD1eM2b9"
      },
      "source": [
        "# load the data for text generator\r\n",
        "# this is the data set\r\n",
        "# this line download the fill in out pc\r\n",
        "path_to_file = tf.keras.utils.get_file('shakespeare.txt', 'https://storage.googleapis.com/download.tensorflow.org'\r\n",
        "                                                          '/data/shakespeare.txt')\r\n",
        "# now let's open the fill and decode it\r\n",
        "text = open(path_to_file, 'rb').read().decode(encoding='utf-8')\r\n",
        "# now let's encode out text\r\n",
        "# here we store all the unique word in a set and sort it\r\n",
        "vocb = sorted(set(text))\r\n",
        "# Creating a mapping from unique characters to indices\r\n",
        "char2index = {u: i for i, u in enumerate(vocb)}\r\n",
        "# now let's convert the vocb into numpy array\r\n",
        "index2char = np.array(vocb)\r\n",
        "\r\n",
        "\r\n",
        "# now let's create a function that convert the text to int\r\n",
        "\r\n",
        "def text_to_int(txt):\r\n",
        "    return np.array([char2index[c] for c in txt])\r\n",
        "\r\n",
        "\r\n",
        "def int_to_text(integer):\r\n",
        "    t = \"\"\r\n",
        "    for num in integer:\r\n",
        "        t += index2char[num] + \"\"\r\n",
        "\r\n",
        "    return t\r\n",
        "\r\n",
        "\r\n",
        "text_as_int = text_to_int(text)\r\n",
        "# now let's create some training ex\r\n",
        "seq_length = 100  # length of sequence for a training example\r\n",
        "examples_per_epoch = len(text) // (seq_length + 1)\r\n",
        "\r\n",
        "# Create training examples / targets\r\n",
        "char_dataset = tf.data.Dataset.from_tensor_slices(text_as_int)\r\n",
        "# Next we can use the batch method to turn this stream of characters into batches of desired length.\r\n",
        "sequences = char_dataset.batch(seq_length + 1, drop_remainder=True)\r\n",
        "\r\n",
        "\r\n",
        "# Now we need to use these sequences of length 101 and split them into input and output.\r\n",
        "\r\n",
        "\r\n",
        "def split_input_target(chunk):  # for the example: hello\r\n",
        "    input_text = chunk[:-1]  # hell\r\n",
        "    target_text = chunk[1:]  # ello\r\n",
        "    return input_text, target_text  # hell, ello\r\n",
        "\r\n",
        "\r\n",
        "dataset = sequences.map(split_input_target)  # we use map to apply the above function to every entry\r\n",
        "# Finally we need to make training batches.\r\n",
        "BATCH_SIZE = 64\r\n",
        "VOCAB_SIZE = len(vocb)  # vocab is number of unique characters\r\n",
        "EMBEDDING_DIM = 256\r\n",
        "RNN_UNITS = 1024\r\n",
        "# this to shuffle the data\r\n",
        "BUFFER_SIZE = 10000\r\n",
        "# and this code batch our data and shuffle it\r\n",
        "data = dataset.shuffle(BUFFER_SIZE).batch(BATCH_SIZE, drop_remainder=True)\r\n",
        "\r\n",
        "\r\n",
        "# now let's build our model\r\n",
        "\r\n",
        "\r\n",
        "def build_model(vocab_len, embedding_dim, rnn_units, batch_size):\r\n",
        "    model = tf.keras.Sequential([\r\n",
        "        tf.keras.layers.Embedding(vocab_len, embedding_dim, batch_input_shape=[batch_size, None]),\r\n",
        "        tf.keras.layers.GRU(rnn_units, return_sequences=True, stateful=True, recurrent_initializer='glorot_uniform'),\r\n",
        "        tf.keras.layers.Dense(vocab_len)\r\n",
        "\r\n",
        "    ])\r\n",
        "    return model\r\n",
        "\r\n",
        "\r\n",
        "model = build_model(VOCAB_SIZE, EMBEDDING_DIM, RNN_UNITS, BATCH_SIZE)\r\n",
        "\r\n",
        "\r\n",
        "# creating the loss function\r\n",
        "\r\n",
        "\r\n",
        "def loss(labels, logits):\r\n",
        "    return tf.keras.losses.sparse_categorical_crossentropy(labels, logits, from_logits=True)\r\n",
        "\r\n",
        "\r\n",
        "model.compile(optimizer='adam', loss=loss)\r\n",
        "# Directory where the checkpoints will be saved\r\n",
        "checkpoint_dir = './training_checkpoints'\r\n",
        "# Name of the checkpoint files\r\n",
        "# Now we are going to setup and configure our model to save checkpoinst as it trains.\r\n",
        "# This will allow us to load our model from a checkpoint and continue training it\r\n",
        "checkpoint_prefix = os.path.join(checkpoint_dir, \"ckpt_{epoch}\")\r\n",
        "\r\n",
        "checkpoint_callback = tf.keras.callbacks.ModelCheckpoint(\r\n",
        "    filepath=checkpoint_prefix,\r\n",
        "    save_weights_only=True)\r\n",
        "\r\n",
        "# now let's train the model\r\n",
        "his = model.fit(data, epochs=40, callbacks=[checkpoint_callback])\r\n"
      ],
      "execution_count": null,
      "outputs": []
    },
    {
      "cell_type": "markdown",
      "metadata": {
        "id": "ur02uPsZOhIM"
      },
      "source": [
        "rebuild the model\r\n"
      ]
    },
    {
      "cell_type": "code",
      "metadata": {
        "id": "9p9N5WNxOSd3"
      },
      "source": [
        "# loading the model\r\n",
        "# We'll rebuild the model from a checkpoint using a batch_size of 1\r\n",
        "# so that we can feed one peice of text to the model and have it make a prediction\r\n",
        "model = build_model(VOCAB_SIZE, EMBEDDING_DIM, RNN_UNITS, batch_size=1)"
      ],
      "execution_count": null,
      "outputs": []
    },
    {
      "cell_type": "markdown",
      "metadata": {
        "id": "xu-VGJ4pPBzK"
      },
      "source": [
        "Once the model is finished training, we can find the lastest checkpoint that stores the models weights using the following line."
      ]
    },
    {
      "cell_type": "code",
      "metadata": {
        "id": "tlP9DVK_O3r4"
      },
      "source": [
        "model.load_weights(tf.train.latest_checkpoint(checkpoint_dir))\r\n",
        "model.build(tf.TensorShape([1, None]))"
      ],
      "execution_count": null,
      "outputs": []
    },
    {
      "cell_type": "markdown",
      "metadata": {
        "id": "ZVXjXgeUPpcK"
      },
      "source": [
        "# Gerate text\r\n",
        "now we will make a function to genrate our text\r\n"
      ]
    },
    {
      "cell_type": "code",
      "metadata": {
        "id": "Ie4hUaI-PRa-"
      },
      "source": [
        "def genrate_text(model, start_string):\r\n",
        "  # Evaluation step (generating text using the learned model)\r\n",
        "\r\n",
        "  # Number of characters to generate\r\n",
        "  num_generate = 800\r\n",
        "  # Converting our start string to numbers (vectorizing)\r\n",
        "  input_eval = [char2index[s] for s in start_string]\r\n",
        "  input_eval = tf.expand_dims(input_eval, 0)\r\n",
        "   # Empty string to store our results\r\n",
        "  text_generated = []\r\n",
        "  # Low temperatures results in more predictable text.\r\n",
        "  # Higher temperatures results in more surprising text.\r\n",
        "  # Experiment to find the best setting.\r\n",
        "  temperature = 1.0\r\n",
        "  # Here batch size == 1\r\n",
        "  model.reset_states()\r\n",
        "  for i in range(num_generate):\r\n",
        "    predictions = model(input_eval)\r\n",
        "    # remove the batch dimension\r\n",
        "    predictions = tf.squeeze(predictions, 0)\r\n",
        "    # using a categorical distribution to predict the character returned by the model\r\n",
        "    predictions = predictions / temperature\r\n",
        "    predicted_id = tf.random.categorical(predictions, num_samples=1)[-1,0].numpy()\r\n",
        "    # We pass the predicted character as the next input to the model\r\n",
        "    # along with the previous hidden state\r\n",
        "    input_eval = tf.expand_dims([predicted_id], 0)\r\n",
        "\r\n",
        "    text_generated.append(index2char[predicted_id])\r\n",
        "  return (start_string + ''.join(text_generated))  "
      ],
      "execution_count": null,
      "outputs": []
    },
    {
      "cell_type": "code",
      "metadata": {
        "colab": {
          "base_uri": "https://localhost:8080/"
        },
        "id": "RZ9uCCKXXB9z",
        "outputId": "401a44d2-fa0c-492a-9796-e0cd344d07a8"
      },
      "source": [
        "inp = input(\"Type a starting string: \")\r\n",
        "print(genrate_text(model, inp))"
      ],
      "execution_count": null,
      "outputs": [
        {
          "output_type": "stream",
          "text": [
            "Type a starting string: ROMEO\n",
            "ROMEO:\n",
            "No, God have one son, so vile thee! at thou canst not\n",
            "Hath satisfy the blamertiest war Netth thee by me what best.\n",
            "I cannot tempt him.\n",
            "\n",
            "First Murderer:\n",
            "What stay yet the deputy with the deer? what a peril to him;\n",
            "his noble counsel and conspirators:\n",
            "Lo, have you not beat for barking\n",
            "Than a trade that ever\n",
            "I was born so fair a thousand, ho! Alas!\n",
            "If they do sway with those that have worn all your sins:\n",
            "I hear 'twixt him for a sermonation.\n",
            "\n",
            "ISABELLA:\n",
            "We never hear us any thing.\n",
            "\n",
            "JULIET:\n",
            "Ay, like a prophecy, Gremio?\n",
            "\n",
            "JULIET:\n",
            "What birds green like to him, as now her son\n",
            "Without your own last living, their own good will,\n",
            "Is this their marks on Warwick?\n",
            "\n",
            "SICINIUS:\n",
            "All but closely: now for the eagle-stick.\n",
            "\n",
            "QUEEN ELIZABETH:\n",
            "Thus hum to fear?\n",
            "\n",
            "FLORIZEL:\n",
            "Now, good sweet nurse,--\n",
            "\n",
            "STANLEY:\n",
            "Why, bro\n"
          ],
          "name": "stdout"
        }
      ]
    }
  ]
}